{
 "cells": [
  {
   "cell_type": "code",
   "execution_count": 20,
   "metadata": {},
   "outputs": [],
   "source": [
    "import pandas as pd\n",
    "import numpy as np\n",
    "import text_normalizer as tn\n",
    "import model_evaluation_utils as meu\n",
    "\n",
    "from IPython.display import SVG\n",
    "from keras.utils.vis_utils import model_to_dot\n",
    "\n",
    "from sklearn.feature_extraction.text import CountVectorizer, TfidfVectorizer\n",
    "from sklearn.linear_model import LogisticRegression, SGDClassifier\n",
    "from sklearn.preprocessing import LabelEncoder\n",
    "\n",
    "import gensim\n",
    "import keras\n",
    "from keras.models import Sequential\n",
    "from keras.layers import Dropout, Activation, Dense"
   ]
  },
  {
   "cell_type": "code",
   "execution_count": 4,
   "metadata": {},
   "outputs": [
    {
     "name": "stdout",
     "output_type": "stream",
     "text": [
      "                                              review sentiment\n",
      "0  One of the other reviewers has mentioned that ...  positive\n",
      "1  A wonderful little production. <br /><br />The...  positive\n",
      "2  I thought this was a wonderful way to spend ti...  positive\n",
      "3  Basically there's a family where a little boy ...  negative\n",
      "4  Petter Mattei's \"Love in the Time of Money\" is...  positive\n"
     ]
    }
   ],
   "source": [
    "dataset = pd.read_csv(\"movie_reviews.csv\")\n",
    "\n",
    "print(dataset.head())\n",
    "reviews = np.array(dataset[\"review\"])\n",
    "sentiments = np.array(dataset[\"sentiment\"])\n",
    "\n",
    "train_reviews = reviews[:35000]\n",
    "train_sentiments = sentiments[:35000]\n",
    "test_reviews = reviews[35000:]\n",
    "test_sentiments = sentiments[35000:]\n",
    "\n",
    "norm_train_reviews = tn.normalize_corpus(train_reviews)\n",
    "norm_test_reviews = tn.normalize_corpus(test_reviews)"
   ]
  },
  {
   "cell_type": "code",
   "execution_count": 10,
   "metadata": {},
   "outputs": [
    {
     "name": "stdout",
     "output_type": "stream",
     "text": [
      "Sentiment class label map: {'negative': 0, 'positive': 1}\n",
      "Sample test label transformation:\n",
      "----------------------------------- \n",
      "Actual Labels: ['negative' 'positive' 'negative'] \n",
      "Encoded Labels [0 1 0] \n",
      "One hot encoded Labels:\n",
      " [[1. 0.]\n",
      " [0. 1.]\n",
      " [1. 0.]]\n"
     ]
    }
   ],
   "source": [
    "le = LabelEncoder()\n",
    "num_classes =2\n",
    "# tokenize train reviews and encode train labels\n",
    "tokenized_train = [tn.tokenizer.tokenize(text) for text in norm_train_reviews]\n",
    "y_tr = le.fit_transform(train_sentiments)\n",
    "y_train = keras.utils.to_categorical(y_tr, num_classes)\n",
    "# tokenize test reviews and encode test labels\n",
    "tokenized_test = [tn.tokenizer.tokenize(text) for text in norm_test_reviews]\n",
    "y_ts = le.fit_transform(test_sentiments)\n",
    "y_test = keras.utils.to_categorical(y_ts, num_classes)\n",
    "\n",
    "# print class label encoding map and encoded label\n",
    "print(\"Sentiment class label map:\", dict(zip(le.classes_, le.transform(le.classes_))))\n",
    "print(\"Sample test label transformation:\\n\"+\"-\"*35,\n",
    "      \"\\nActual Labels:\", test_sentiments[:3], \"\\nEncoded Labels\", y_ts[:3],\n",
    "      \"\\nOne hot encoded Labels:\\n\", y_test[:3]\n",
    "     )"
   ]
  },
  {
   "cell_type": "code",
   "execution_count": 11,
   "metadata": {},
   "outputs": [],
   "source": [
    "# build word2vec model\n",
    "w2v_num_features = 500\n",
    "w2v_model = gensim.models.Word2Vec(tokenized_train, size=w2v_num_features, window=150, min_count=10, sample=1e-3)"
   ]
  },
  {
   "cell_type": "code",
   "execution_count": 12,
   "metadata": {},
   "outputs": [],
   "source": [
    "def averaged_word2vec_vectorizer(corpus, model, num_features):\n",
    "    vocabulary = set(model.wv.index2word)\n",
    "    def average_word_vectors(words, model, vocabulary, num_features):\n",
    "        feature_vector = np.zeros((num_features,), dtype=\"float64\")\n",
    "        nwords = 0\n",
    "        for word in words:\n",
    "            if word in vocabulary:\n",
    "                nwords = nwords + 1\n",
    "                feature_vector = np.add(feature_vector, model[word])\n",
    "        if nwords:\n",
    "            feature_vector = np.divide(feature_vector, nwords)\n",
    "        return feature_vector\n",
    "    \n",
    "    features = [average_word_vectors(tokenized_sentence, model, vocabulary, num_features) for tokenized_sentence in corpus]\n",
    "    return np.array(features)"
   ]
  },
  {
   "cell_type": "code",
   "execution_count": 13,
   "metadata": {},
   "outputs": [
    {
     "name": "stderr",
     "output_type": "stream",
     "text": [
      "<ipython-input-12-b815fb369250>:9: DeprecationWarning: Call to deprecated `__getitem__` (Method will be removed in 4.0.0, use self.wv.__getitem__() instead).\n",
      "  feature_vector = np.add(feature_vector, model[word])\n"
     ]
    }
   ],
   "source": [
    "# generate averaged word vector features from word2vec model\n",
    "avg_wv_train_features = averaged_word2vec_vectorizer(corpus=tokenized_train, model=w2v_model, num_features=500)\n",
    "avg_wv_test_features = averaged_word2vec_vectorizer(corpus=tokenized_test, model=w2v_model, num_features=500)"
   ]
  },
  {
   "cell_type": "code",
   "execution_count": 14,
   "metadata": {},
   "outputs": [],
   "source": [
    "# feature engineering with GloVe model\n",
    "train_nlp = [tn.nlp(item) for item in norm_train_reviews]\n",
    "train_glove_features = np.array([item.vector for item in train_nlp])\n",
    "\n",
    "test_nlp = [tn.nlp(item) for item in norm_test_reviews]\n",
    "test_glove_features = np.array([item.vector for item in test_nlp])"
   ]
  },
  {
   "cell_type": "code",
   "execution_count": 16,
   "metadata": {},
   "outputs": [
    {
     "name": "stdout",
     "output_type": "stream",
     "text": [
      "Word2Vec model:> Train features shape: (35000, 500) Test feature shape (15000, 500)\n",
      "GloVe model:> Train features shape: (35000, 96) Test feature shape (15000, 96)\n"
     ]
    }
   ],
   "source": [
    "print(\"Word2Vec model:> Train features shape:\", avg_wv_train_features.shape,\n",
    "      \"Test feature shape\", avg_wv_test_features.shape\n",
    "     )\n",
    "print(\"GloVe model:> Train features shape:\", train_glove_features.shape,\n",
    "      \"Test feature shape\", test_glove_features.shape\n",
    "     )"
   ]
  },
  {
   "cell_type": "code",
   "execution_count": 18,
   "metadata": {},
   "outputs": [],
   "source": [
    "def construct_deepnn_architecture(num_input_features):\n",
    "    dnn_model = Sequential()\n",
    "    dnn_model.add(Dense(512, activation=\"relu\", input_shape=(num_input_features,)))\n",
    "    dnn_model.add(Dropout(.2))\n",
    "    dnn_model.add(Dense(512, activation=\"relu\"))\n",
    "    dnn_model.add(Dropout(.2))\n",
    "    dnn_model.add(Dense(512, activation=\"relu\"))\n",
    "    dnn_model.add(Dropout(.2))\n",
    "    dnn_model.add(Dense(2))\n",
    "    dnn_model.add(Activation(\"softmax\"))\n",
    "    \n",
    "    dnn_model.compile(loss=\"categorical_crossentropy\", optimizer=\"adam\", metrics=[\"accuracy\"])\n",
    "    \n",
    "    return dnn_model"
   ]
  },
  {
   "cell_type": "code",
   "execution_count": 19,
   "metadata": {},
   "outputs": [],
   "source": [
    "w2v_dnn = construct_deepnn_architecture(num_input_features=500)"
   ]
  },
  {
   "cell_type": "code",
   "execution_count": 21,
   "metadata": {},
   "outputs": [
    {
     "data": {
      "image/svg+xml": [
       "<svg xmlns=\"http://www.w3.org/2000/svg\" xmlns:xlink=\"http://www.w3.org/1999/xlink\" width=\"336pt\" height=\"959pt\" viewBox=\"0.00 0.00 252.00 719.00\">\n",
       "<g id=\"graph0\" class=\"graph\" transform=\"scale(0.75 0.75) rotate(0) translate(4 715)\">\n",
       "<title>G</title>\n",
       "<polygon fill=\"white\" stroke=\"transparent\" points=\"-4,4 -4,-715 248,-715 248,4 -4,4\"/>\n",
       "<!-- 140441971166176 -->\n",
       "<g id=\"node1\" class=\"node\">\n",
       "<title>140441971166176</title>\n",
       "<polygon fill=\"none\" stroke=\"black\" points=\"0,-664.5 0,-710.5 244,-710.5 244,-664.5 0,-664.5\"/>\n",
       "<text text-anchor=\"middle\" x=\"47.5\" y=\"-683.8\" font-family=\"Times,serif\" font-size=\"14.00\">InputLayer</text>\n",
       "<polyline fill=\"none\" stroke=\"black\" points=\"95,-664.5 95,-710.5 \"/>\n",
       "<text text-anchor=\"middle\" x=\"129\" y=\"-695.3\" font-family=\"Times,serif\" font-size=\"14.00\">input:</text>\n",
       "<polyline fill=\"none\" stroke=\"black\" points=\"95,-687.5 163,-687.5 \"/>\n",
       "<text text-anchor=\"middle\" x=\"129\" y=\"-672.3\" font-family=\"Times,serif\" font-size=\"14.00\">output:</text>\n",
       "<polyline fill=\"none\" stroke=\"black\" points=\"163,-664.5 163,-710.5 \"/>\n",
       "<text text-anchor=\"middle\" x=\"203.5\" y=\"-695.3\" font-family=\"Times,serif\" font-size=\"14.00\">[(?, 500)]</text>\n",
       "<polyline fill=\"none\" stroke=\"black\" points=\"163,-687.5 244,-687.5 \"/>\n",
       "<text text-anchor=\"middle\" x=\"203.5\" y=\"-672.3\" font-family=\"Times,serif\" font-size=\"14.00\">[(?, 500)]</text>\n",
       "</g>\n",
       "<!-- 140441971163776 -->\n",
       "<g id=\"node2\" class=\"node\">\n",
       "<title>140441971163776</title>\n",
       "<polygon fill=\"none\" stroke=\"black\" points=\"22,-581.5 22,-627.5 222,-627.5 222,-581.5 22,-581.5\"/>\n",
       "<text text-anchor=\"middle\" x=\"52.5\" y=\"-600.8\" font-family=\"Times,serif\" font-size=\"14.00\">Dense</text>\n",
       "<polyline fill=\"none\" stroke=\"black\" points=\"83,-581.5 83,-627.5 \"/>\n",
       "<text text-anchor=\"middle\" x=\"117\" y=\"-612.3\" font-family=\"Times,serif\" font-size=\"14.00\">input:</text>\n",
       "<polyline fill=\"none\" stroke=\"black\" points=\"83,-604.5 151,-604.5 \"/>\n",
       "<text text-anchor=\"middle\" x=\"117\" y=\"-589.3\" font-family=\"Times,serif\" font-size=\"14.00\">output:</text>\n",
       "<polyline fill=\"none\" stroke=\"black\" points=\"151,-581.5 151,-627.5 \"/>\n",
       "<text text-anchor=\"middle\" x=\"186.5\" y=\"-612.3\" font-family=\"Times,serif\" font-size=\"14.00\">(?, 500)</text>\n",
       "<polyline fill=\"none\" stroke=\"black\" points=\"151,-604.5 222,-604.5 \"/>\n",
       "<text text-anchor=\"middle\" x=\"186.5\" y=\"-589.3\" font-family=\"Times,serif\" font-size=\"14.00\">(?, 512)</text>\n",
       "</g>\n",
       "<!-- 140441971166176&#45;&gt;140441971163776 -->\n",
       "<g id=\"edge1\" class=\"edge\">\n",
       "<title>140441971166176-&gt;140441971163776</title>\n",
       "<path fill=\"none\" stroke=\"black\" d=\"M122,-664.37C122,-656.15 122,-646.66 122,-637.73\"/>\n",
       "<polygon fill=\"black\" stroke=\"black\" points=\"125.5,-637.61 122,-627.61 118.5,-637.61 125.5,-637.61\"/>\n",
       "</g>\n",
       "<!-- 140441971005184 -->\n",
       "<g id=\"node3\" class=\"node\">\n",
       "<title>140441971005184</title>\n",
       "<polygon fill=\"none\" stroke=\"black\" points=\"15,-498.5 15,-544.5 229,-544.5 229,-498.5 15,-498.5\"/>\n",
       "<text text-anchor=\"middle\" x=\"52.5\" y=\"-517.8\" font-family=\"Times,serif\" font-size=\"14.00\">Dropout</text>\n",
       "<polyline fill=\"none\" stroke=\"black\" points=\"90,-498.5 90,-544.5 \"/>\n",
       "<text text-anchor=\"middle\" x=\"124\" y=\"-529.3\" font-family=\"Times,serif\" font-size=\"14.00\">input:</text>\n",
       "<polyline fill=\"none\" stroke=\"black\" points=\"90,-521.5 158,-521.5 \"/>\n",
       "<text text-anchor=\"middle\" x=\"124\" y=\"-506.3\" font-family=\"Times,serif\" font-size=\"14.00\">output:</text>\n",
       "<polyline fill=\"none\" stroke=\"black\" points=\"158,-498.5 158,-544.5 \"/>\n",
       "<text text-anchor=\"middle\" x=\"193.5\" y=\"-529.3\" font-family=\"Times,serif\" font-size=\"14.00\">(?, 512)</text>\n",
       "<polyline fill=\"none\" stroke=\"black\" points=\"158,-521.5 229,-521.5 \"/>\n",
       "<text text-anchor=\"middle\" x=\"193.5\" y=\"-506.3\" font-family=\"Times,serif\" font-size=\"14.00\">(?, 512)</text>\n",
       "</g>\n",
       "<!-- 140441971163776&#45;&gt;140441971005184 -->\n",
       "<g id=\"edge2\" class=\"edge\">\n",
       "<title>140441971163776-&gt;140441971005184</title>\n",
       "<path fill=\"none\" stroke=\"black\" d=\"M122,-581.37C122,-573.15 122,-563.66 122,-554.73\"/>\n",
       "<polygon fill=\"black\" stroke=\"black\" points=\"125.5,-554.61 122,-544.61 118.5,-554.61 125.5,-554.61\"/>\n",
       "</g>\n",
       "<!-- 140441971137072 -->\n",
       "<g id=\"node4\" class=\"node\">\n",
       "<title>140441971137072</title>\n",
       "<polygon fill=\"none\" stroke=\"black\" points=\"22,-415.5 22,-461.5 222,-461.5 222,-415.5 22,-415.5\"/>\n",
       "<text text-anchor=\"middle\" x=\"52.5\" y=\"-434.8\" font-family=\"Times,serif\" font-size=\"14.00\">Dense</text>\n",
       "<polyline fill=\"none\" stroke=\"black\" points=\"83,-415.5 83,-461.5 \"/>\n",
       "<text text-anchor=\"middle\" x=\"117\" y=\"-446.3\" font-family=\"Times,serif\" font-size=\"14.00\">input:</text>\n",
       "<polyline fill=\"none\" stroke=\"black\" points=\"83,-438.5 151,-438.5 \"/>\n",
       "<text text-anchor=\"middle\" x=\"117\" y=\"-423.3\" font-family=\"Times,serif\" font-size=\"14.00\">output:</text>\n",
       "<polyline fill=\"none\" stroke=\"black\" points=\"151,-415.5 151,-461.5 \"/>\n",
       "<text text-anchor=\"middle\" x=\"186.5\" y=\"-446.3\" font-family=\"Times,serif\" font-size=\"14.00\">(?, 512)</text>\n",
       "<polyline fill=\"none\" stroke=\"black\" points=\"151,-438.5 222,-438.5 \"/>\n",
       "<text text-anchor=\"middle\" x=\"186.5\" y=\"-423.3\" font-family=\"Times,serif\" font-size=\"14.00\">(?, 512)</text>\n",
       "</g>\n",
       "<!-- 140441971005184&#45;&gt;140441971137072 -->\n",
       "<g id=\"edge3\" class=\"edge\">\n",
       "<title>140441971005184-&gt;140441971137072</title>\n",
       "<path fill=\"none\" stroke=\"black\" d=\"M122,-498.37C122,-490.15 122,-480.66 122,-471.73\"/>\n",
       "<polygon fill=\"black\" stroke=\"black\" points=\"125.5,-471.61 122,-461.61 118.5,-471.61 125.5,-471.61\"/>\n",
       "</g>\n",
       "<!-- 140441971248432 -->\n",
       "<g id=\"node5\" class=\"node\">\n",
       "<title>140441971248432</title>\n",
       "<polygon fill=\"none\" stroke=\"black\" points=\"15,-332.5 15,-378.5 229,-378.5 229,-332.5 15,-332.5\"/>\n",
       "<text text-anchor=\"middle\" x=\"52.5\" y=\"-351.8\" font-family=\"Times,serif\" font-size=\"14.00\">Dropout</text>\n",
       "<polyline fill=\"none\" stroke=\"black\" points=\"90,-332.5 90,-378.5 \"/>\n",
       "<text text-anchor=\"middle\" x=\"124\" y=\"-363.3\" font-family=\"Times,serif\" font-size=\"14.00\">input:</text>\n",
       "<polyline fill=\"none\" stroke=\"black\" points=\"90,-355.5 158,-355.5 \"/>\n",
       "<text text-anchor=\"middle\" x=\"124\" y=\"-340.3\" font-family=\"Times,serif\" font-size=\"14.00\">output:</text>\n",
       "<polyline fill=\"none\" stroke=\"black\" points=\"158,-332.5 158,-378.5 \"/>\n",
       "<text text-anchor=\"middle\" x=\"193.5\" y=\"-363.3\" font-family=\"Times,serif\" font-size=\"14.00\">(?, 512)</text>\n",
       "<polyline fill=\"none\" stroke=\"black\" points=\"158,-355.5 229,-355.5 \"/>\n",
       "<text text-anchor=\"middle\" x=\"193.5\" y=\"-340.3\" font-family=\"Times,serif\" font-size=\"14.00\">(?, 512)</text>\n",
       "</g>\n",
       "<!-- 140441971137072&#45;&gt;140441971248432 -->\n",
       "<g id=\"edge4\" class=\"edge\">\n",
       "<title>140441971137072-&gt;140441971248432</title>\n",
       "<path fill=\"none\" stroke=\"black\" d=\"M122,-415.37C122,-407.15 122,-397.66 122,-388.73\"/>\n",
       "<polygon fill=\"black\" stroke=\"black\" points=\"125.5,-388.61 122,-378.61 118.5,-388.61 125.5,-388.61\"/>\n",
       "</g>\n",
       "<!-- 140441971246128 -->\n",
       "<g id=\"node6\" class=\"node\">\n",
       "<title>140441971246128</title>\n",
       "<polygon fill=\"none\" stroke=\"black\" points=\"22,-249.5 22,-295.5 222,-295.5 222,-249.5 22,-249.5\"/>\n",
       "<text text-anchor=\"middle\" x=\"52.5\" y=\"-268.8\" font-family=\"Times,serif\" font-size=\"14.00\">Dense</text>\n",
       "<polyline fill=\"none\" stroke=\"black\" points=\"83,-249.5 83,-295.5 \"/>\n",
       "<text text-anchor=\"middle\" x=\"117\" y=\"-280.3\" font-family=\"Times,serif\" font-size=\"14.00\">input:</text>\n",
       "<polyline fill=\"none\" stroke=\"black\" points=\"83,-272.5 151,-272.5 \"/>\n",
       "<text text-anchor=\"middle\" x=\"117\" y=\"-257.3\" font-family=\"Times,serif\" font-size=\"14.00\">output:</text>\n",
       "<polyline fill=\"none\" stroke=\"black\" points=\"151,-249.5 151,-295.5 \"/>\n",
       "<text text-anchor=\"middle\" x=\"186.5\" y=\"-280.3\" font-family=\"Times,serif\" font-size=\"14.00\">(?, 512)</text>\n",
       "<polyline fill=\"none\" stroke=\"black\" points=\"151,-272.5 222,-272.5 \"/>\n",
       "<text text-anchor=\"middle\" x=\"186.5\" y=\"-257.3\" font-family=\"Times,serif\" font-size=\"14.00\">(?, 512)</text>\n",
       "</g>\n",
       "<!-- 140441971248432&#45;&gt;140441971246128 -->\n",
       "<g id=\"edge5\" class=\"edge\">\n",
       "<title>140441971248432-&gt;140441971246128</title>\n",
       "<path fill=\"none\" stroke=\"black\" d=\"M122,-332.37C122,-324.15 122,-314.66 122,-305.73\"/>\n",
       "<polygon fill=\"black\" stroke=\"black\" points=\"125.5,-305.61 122,-295.61 118.5,-305.61 125.5,-305.61\"/>\n",
       "</g>\n",
       "<!-- 140441971138320 -->\n",
       "<g id=\"node7\" class=\"node\">\n",
       "<title>140441971138320</title>\n",
       "<polygon fill=\"none\" stroke=\"black\" points=\"15,-166.5 15,-212.5 229,-212.5 229,-166.5 15,-166.5\"/>\n",
       "<text text-anchor=\"middle\" x=\"52.5\" y=\"-185.8\" font-family=\"Times,serif\" font-size=\"14.00\">Dropout</text>\n",
       "<polyline fill=\"none\" stroke=\"black\" points=\"90,-166.5 90,-212.5 \"/>\n",
       "<text text-anchor=\"middle\" x=\"124\" y=\"-197.3\" font-family=\"Times,serif\" font-size=\"14.00\">input:</text>\n",
       "<polyline fill=\"none\" stroke=\"black\" points=\"90,-189.5 158,-189.5 \"/>\n",
       "<text text-anchor=\"middle\" x=\"124\" y=\"-174.3\" font-family=\"Times,serif\" font-size=\"14.00\">output:</text>\n",
       "<polyline fill=\"none\" stroke=\"black\" points=\"158,-166.5 158,-212.5 \"/>\n",
       "<text text-anchor=\"middle\" x=\"193.5\" y=\"-197.3\" font-family=\"Times,serif\" font-size=\"14.00\">(?, 512)</text>\n",
       "<polyline fill=\"none\" stroke=\"black\" points=\"158,-189.5 229,-189.5 \"/>\n",
       "<text text-anchor=\"middle\" x=\"193.5\" y=\"-174.3\" font-family=\"Times,serif\" font-size=\"14.00\">(?, 512)</text>\n",
       "</g>\n",
       "<!-- 140441971246128&#45;&gt;140441971138320 -->\n",
       "<g id=\"edge6\" class=\"edge\">\n",
       "<title>140441971246128-&gt;140441971138320</title>\n",
       "<path fill=\"none\" stroke=\"black\" d=\"M122,-249.37C122,-241.15 122,-231.66 122,-222.73\"/>\n",
       "<polygon fill=\"black\" stroke=\"black\" points=\"125.5,-222.61 122,-212.61 118.5,-222.61 125.5,-222.61\"/>\n",
       "</g>\n",
       "<!-- 140441970175088 -->\n",
       "<g id=\"node8\" class=\"node\">\n",
       "<title>140441970175088</title>\n",
       "<polygon fill=\"none\" stroke=\"black\" points=\"22,-83.5 22,-129.5 222,-129.5 222,-83.5 22,-83.5\"/>\n",
       "<text text-anchor=\"middle\" x=\"52.5\" y=\"-102.8\" font-family=\"Times,serif\" font-size=\"14.00\">Dense</text>\n",
       "<polyline fill=\"none\" stroke=\"black\" points=\"83,-83.5 83,-129.5 \"/>\n",
       "<text text-anchor=\"middle\" x=\"117\" y=\"-114.3\" font-family=\"Times,serif\" font-size=\"14.00\">input:</text>\n",
       "<polyline fill=\"none\" stroke=\"black\" points=\"83,-106.5 151,-106.5 \"/>\n",
       "<text text-anchor=\"middle\" x=\"117\" y=\"-91.3\" font-family=\"Times,serif\" font-size=\"14.00\">output:</text>\n",
       "<polyline fill=\"none\" stroke=\"black\" points=\"151,-83.5 151,-129.5 \"/>\n",
       "<text text-anchor=\"middle\" x=\"186.5\" y=\"-114.3\" font-family=\"Times,serif\" font-size=\"14.00\">(?, 512)</text>\n",
       "<polyline fill=\"none\" stroke=\"black\" points=\"151,-106.5 222,-106.5 \"/>\n",
       "<text text-anchor=\"middle\" x=\"186.5\" y=\"-91.3\" font-family=\"Times,serif\" font-size=\"14.00\">(?, 2)</text>\n",
       "</g>\n",
       "<!-- 140441971138320&#45;&gt;140441970175088 -->\n",
       "<g id=\"edge7\" class=\"edge\">\n",
       "<title>140441971138320-&gt;140441970175088</title>\n",
       "<path fill=\"none\" stroke=\"black\" d=\"M122,-166.37C122,-158.15 122,-148.66 122,-139.73\"/>\n",
       "<polygon fill=\"black\" stroke=\"black\" points=\"125.5,-139.61 122,-129.61 118.5,-139.61 125.5,-139.61\"/>\n",
       "</g>\n",
       "<!-- 140441970174512 -->\n",
       "<g id=\"node9\" class=\"node\">\n",
       "<title>140441970174512</title>\n",
       "<polygon fill=\"none\" stroke=\"black\" points=\"17,-0.5 17,-46.5 227,-46.5 227,-0.5 17,-0.5\"/>\n",
       "<text text-anchor=\"middle\" x=\"61.5\" y=\"-19.8\" font-family=\"Times,serif\" font-size=\"14.00\">Activation</text>\n",
       "<polyline fill=\"none\" stroke=\"black\" points=\"106,-0.5 106,-46.5 \"/>\n",
       "<text text-anchor=\"middle\" x=\"140\" y=\"-31.3\" font-family=\"Times,serif\" font-size=\"14.00\">input:</text>\n",
       "<polyline fill=\"none\" stroke=\"black\" points=\"106,-23.5 174,-23.5 \"/>\n",
       "<text text-anchor=\"middle\" x=\"140\" y=\"-8.3\" font-family=\"Times,serif\" font-size=\"14.00\">output:</text>\n",
       "<polyline fill=\"none\" stroke=\"black\" points=\"174,-0.5 174,-46.5 \"/>\n",
       "<text text-anchor=\"middle\" x=\"200.5\" y=\"-31.3\" font-family=\"Times,serif\" font-size=\"14.00\">(?, 2)</text>\n",
       "<polyline fill=\"none\" stroke=\"black\" points=\"174,-23.5 227,-23.5 \"/>\n",
       "<text text-anchor=\"middle\" x=\"200.5\" y=\"-8.3\" font-family=\"Times,serif\" font-size=\"14.00\">(?, 2)</text>\n",
       "</g>\n",
       "<!-- 140441970175088&#45;&gt;140441970174512 -->\n",
       "<g id=\"edge8\" class=\"edge\">\n",
       "<title>140441970175088-&gt;140441970174512</title>\n",
       "<path fill=\"none\" stroke=\"black\" d=\"M122,-83.37C122,-75.15 122,-65.66 122,-56.73\"/>\n",
       "<polygon fill=\"black\" stroke=\"black\" points=\"125.5,-56.61 122,-46.61 118.5,-56.61 125.5,-56.61\"/>\n",
       "</g>\n",
       "</g>\n",
       "</svg>"
      ],
      "text/plain": [
       "<IPython.core.display.SVG object>"
      ]
     },
     "execution_count": 21,
     "metadata": {},
     "output_type": "execute_result"
    }
   ],
   "source": [
    "SVG(model_to_dot(w2v_dnn, show_shapes=True, show_layer_names=False, rankdir=\"TB\").create(prog=\"dot\", format=\"svg\"))"
   ]
  },
  {
   "cell_type": "code",
   "execution_count": 22,
   "metadata": {},
   "outputs": [
    {
     "name": "stdout",
     "output_type": "stream",
     "text": [
      "Epoch 1/5\n",
      "315/315 [==============================] - 2s 5ms/step - loss: 0.3096 - accuracy: 0.8705 - val_loss: 0.3034 - val_accuracy: 0.8706\n",
      "Epoch 2/5\n",
      "315/315 [==============================] - 1s 5ms/step - loss: 0.2851 - accuracy: 0.8824 - val_loss: 0.2972 - val_accuracy: 0.8780\n",
      "Epoch 3/5\n",
      "315/315 [==============================] - 1s 4ms/step - loss: 0.2793 - accuracy: 0.8849 - val_loss: 0.3022 - val_accuracy: 0.8714\n",
      "Epoch 4/5\n",
      "315/315 [==============================] - 1s 4ms/step - loss: 0.2705 - accuracy: 0.8874 - val_loss: 0.3046 - val_accuracy: 0.8774\n",
      "Epoch 5/5\n",
      "315/315 [==============================] - 1s 4ms/step - loss: 0.2618 - accuracy: 0.8908 - val_loss: 0.3019 - val_accuracy: 0.8689\n"
     ]
    },
    {
     "data": {
      "text/plain": [
       "<tensorflow.python.keras.callbacks.History at 0x7fbae417a6a0>"
      ]
     },
     "execution_count": 22,
     "metadata": {},
     "output_type": "execute_result"
    }
   ],
   "source": [
    "batch_size = 100\n",
    "w2v_dnn.fit(avg_wv_train_features, y_train, epochs=5, batch_size=batch_size, shuffle=True, validation_split=.1, verbose=1)"
   ]
  },
  {
   "cell_type": "code",
   "execution_count": 23,
   "metadata": {},
   "outputs": [
    {
     "name": "stdout",
     "output_type": "stream",
     "text": [
      "WARNING:tensorflow:From <ipython-input-23-c4d6b94ba433>:1: Sequential.predict_classes (from tensorflow.python.keras.engine.sequential) is deprecated and will be removed after 2021-01-01.\n",
      "Instructions for updating:\n",
      "Please use instead:* `np.argmax(model.predict(x), axis=-1)`,   if your model does multi-class classification   (e.g. if it uses a `softmax` last-layer activation).* `(model.predict(x) > 0.5).astype(\"int32\")`,   if your model does binary classification   (e.g. if it uses a `sigmoid` last-layer activation).\n",
      "Model Performance metrics:\n",
      "------------------------------\n",
      "Accuracy: 0.8809\n",
      "Precision: 0.8823\n",
      "Recall: 0.8809\n",
      "F1 Score: 0.8807\n",
      "\n",
      "Model Classification report:\n",
      "------------------------------\n",
      "              precision    recall  f1-score   support\n",
      "\n",
      "    positive       0.86      0.91      0.88      7510\n",
      "    negative       0.91      0.85      0.88      7490\n",
      "\n",
      "    accuracy                           0.88     15000\n",
      "   macro avg       0.88      0.88      0.88     15000\n",
      "weighted avg       0.88      0.88      0.88     15000\n",
      "\n"
     ]
    }
   ],
   "source": [
    "y_pred = w2v_dnn.predict_classes(avg_wv_test_features)\n",
    "predictions = le.inverse_transform(y_pred)\n",
    "meu.display_model_performance_metrics(true_labels=test_sentiments, predicted_labels=predictions, classes=[\"positive\", \"negative\"])"
   ]
  },
  {
   "cell_type": "code",
   "execution_count": 24,
   "metadata": {},
   "outputs": [
    {
     "name": "stdout",
     "output_type": "stream",
     "text": [
      "Epoch 1/5\n",
      "315/315 [==============================] - 1s 3ms/step - loss: 0.6481 - accuracy: 0.6255 - val_loss: 0.6292 - val_accuracy: 0.6429\n",
      "Epoch 2/5\n",
      "315/315 [==============================] - 1s 3ms/step - loss: 0.6232 - accuracy: 0.6533 - val_loss: 0.6242 - val_accuracy: 0.6606\n",
      "Epoch 3/5\n",
      "315/315 [==============================] - 1s 3ms/step - loss: 0.6156 - accuracy: 0.6641 - val_loss: 0.6273 - val_accuracy: 0.6471\n",
      "Epoch 4/5\n",
      "315/315 [==============================] - 1s 3ms/step - loss: 0.6132 - accuracy: 0.6662 - val_loss: 0.6212 - val_accuracy: 0.6603\n",
      "Epoch 5/5\n",
      "315/315 [==============================] - 1s 3ms/step - loss: 0.6109 - accuracy: 0.6658 - val_loss: 0.6400 - val_accuracy: 0.6317\n",
      "Model Performance metrics:\n",
      "------------------------------\n",
      "Accuracy: 0.6476\n",
      "Precision: 0.6782\n",
      "Recall: 0.6476\n",
      "F1 Score: 0.6316\n",
      "\n",
      "Model Classification report:\n",
      "------------------------------\n",
      "              precision    recall  f1-score   support\n",
      "\n",
      "    positive       0.60      0.86      0.71      7510\n",
      "    negative       0.75      0.44      0.55      7490\n",
      "\n",
      "    accuracy                           0.65     15000\n",
      "   macro avg       0.68      0.65      0.63     15000\n",
      "weighted avg       0.68      0.65      0.63     15000\n",
      "\n"
     ]
    }
   ],
   "source": [
    "# build DNN model\n",
    "glove_dnn = construct_deepnn_architecture(num_input_features=96)\n",
    "# train DNN model on GloVe training features\n",
    "batch_size = 100\n",
    "glove_dnn.fit(train_glove_features, y_train, epochs=5, batch_size=batch_size, shuffle=True, validation_split=.1, verbose=1)\n",
    "\n",
    "y_pred = glove_dnn.predict_classes(test_glove_features)\n",
    "predictions = le.inverse_transform(y_pred)\n",
    "\n",
    "meu.display_model_performance_metrics(true_labels=test_sentiments, predicted_labels=predictions, classes=[\"positive\", \"negative\"])"
   ]
  },
  {
   "cell_type": "code",
   "execution_count": null,
   "metadata": {},
   "outputs": [],
   "source": []
  }
 ],
 "metadata": {
  "kernelspec": {
   "display_name": "Python 3",
   "language": "python",
   "name": "python3"
  },
  "language_info": {
   "codemirror_mode": {
    "name": "ipython",
    "version": 3
   },
   "file_extension": ".py",
   "mimetype": "text/x-python",
   "name": "python",
   "nbconvert_exporter": "python",
   "pygments_lexer": "ipython3",
   "version": "3.8.5"
  }
 },
 "nbformat": 4,
 "nbformat_minor": 4
}
